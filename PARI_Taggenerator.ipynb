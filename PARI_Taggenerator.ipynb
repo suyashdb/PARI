{
 "cells": [
  {
   "cell_type": "code",
   "execution_count": 1,
   "metadata": {},
   "outputs": [
    {
     "name": "stdout",
     "output_type": "stream",
     "text": [
      "Requirement already satisfied: requests in c:\\users\\vhasfcbhogas\\appdata\\local\\continuum\\anaconda3\\lib\\site-packages (2.18.4)\n",
      "Requirement already satisfied: chardet<3.1.0,>=3.0.2 in c:\\users\\vhasfcbhogas\\appdata\\local\\continuum\\anaconda3\\lib\\site-packages (from requests) (3.0.4)\n",
      "Requirement already satisfied: idna<2.7,>=2.5 in c:\\users\\vhasfcbhogas\\appdata\\local\\continuum\\anaconda3\\lib\\site-packages (from requests) (2.6)\n",
      "Requirement already satisfied: urllib3<1.23,>=1.21.1 in c:\\users\\vhasfcbhogas\\appdata\\local\\continuum\\anaconda3\\lib\\site-packages (from requests) (1.22)\n",
      "Requirement already satisfied: certifi>=2017.4.17 in c:\\users\\vhasfcbhogas\\appdata\\local\\continuum\\anaconda3\\lib\\site-packages (from requests) (2018.1.18)\n",
      "Requirement already satisfied: beautifulsoup4 in c:\\users\\vhasfcbhogas\\appdata\\local\\continuum\\anaconda3\\lib\\site-packages (4.6.0)\n"
     ]
    }
   ],
   "source": [
    "!pip install requests\n",
    "!pip install beautifulsoup4"
   ]
  },
  {
   "cell_type": "code",
   "execution_count": 4,
   "metadata": {},
   "outputs": [],
   "source": [
    "import requests\n",
    "from bs4 import BeautifulSoup "
   ]
  },
  {
   "cell_type": "code",
   "execution_count": 22,
   "metadata": {},
   "outputs": [
    {
     "name": "stderr",
     "output_type": "stream",
     "text": [
      "C:\\Users\\VHASFCBHOGAS\\AppData\\Local\\Continuum\\anaconda3\\lib\\site-packages\\bs4\\__init__.py:181: UserWarning: No parser was explicitly specified, so I'm using the best available HTML parser for this system (\"lxml\"). This usually isn't a problem, but if you run this code on another system, or in a different virtual environment, it may use a different parser and behave differently.\n",
      "\n",
      "The code that caused this warning is on line 193 of the file C:\\Users\\VHASFCBHOGAS\\AppData\\Local\\Continuum\\anaconda3\\lib\\runpy.py. To get rid of this warning, change code that looks like this:\n",
      "\n",
      " BeautifulSoup(YOUR_MARKUP})\n",
      "\n",
      "to this:\n",
      "\n",
      " BeautifulSoup(YOUR_MARKUP, \"lxml\")\n",
      "\n",
      "  markup_type=markup_type))\n"
     ]
    }
   ],
   "source": [
    "url = \"ruralindiaonline.org/articles/big-pharma-kills-small-fish-in-kovvada\"\n",
    "r  = requests.get(\"http://\" +url)\n",
    "data = r.text\n",
    "\n",
    "soup = BeautifulSoup(data)\n",
    "\n"
   ]
  },
  {
   "cell_type": "code",
   "execution_count": 33,
   "metadata": {},
   "outputs": [],
   "source": [
    "normal = soup.find_all('p', attrs={'class':'MsoNormal'})\n"
   ]
  },
  {
   "cell_type": "code",
   "execution_count": 28,
   "metadata": {},
   "outputs": [],
   "source": [
    "comment = soup.findAll('p', attrs={'class':'MsoCommentText'})"
   ]
  },
  {
   "cell_type": "code",
   "execution_count": 48,
   "metadata": {},
   "outputs": [],
   "source": [
    "#import urllib3\n",
    "url = \"http://ruralindiaonline.org/articles/big-pharma-kills-small-fish-in-kovvada\"\n",
    "#page = urllib3.urlopen(url)\n",
    "soup1 = BeautifulSoup(r.text, 'html.parser')"
   ]
  },
  {
   "cell_type": "code",
   "execution_count": 53,
   "metadata": {},
   "outputs": [],
   "source": [
    "norm1 = soup.find_next('p', attrs={'class': 'MsoNormal'})"
   ]
  },
  {
   "cell_type": "markdown",
   "metadata": {},
   "source": [
    "Better way to scrape all text "
   ]
  },
  {
   "cell_type": "code",
   "execution_count": 86,
   "metadata": {},
   "outputs": [],
   "source": [
    "txt = []\n",
    "for p in soup.find_all('p'):\n",
    "    t = p.get_text().replace('\\n', '')\n",
    "    a = t.replace('\\xa0', '')\n",
    "    txt.append(a)"
   ]
  },
  {
   "cell_type": "code",
   "execution_count": 88,
   "metadata": {},
   "outputs": [],
   "source": [
    "# t = txt[1]\n",
    "# t.replace('\\n', '')"
   ]
  },
  {
   "cell_type": "code",
   "execution_count": 89,
   "metadata": {},
   "outputs": [
    {
     "data": {
      "text/plain": [
       "['After polluting industries destroyed fishing in this village in Andhra Pradesh, the struggling fisherfolk, who have tried other livelihood options, recall a past of abundant marine life – while facing an uncertain future  ',\n",
       " '“At anygiven time, half of the men are usually outside the village. Some in the Amberpet market in Hyderabad,some at Besant Road inVijayawada, others in Vashi market or near the Gateway of India in Mumbai, orin Pahar Ganj in Delhi –all of them selling baskets and hammocks,” says Myalapilli Pattayya, whohimself has just returned from a salestrip in Uttaranchal.',\n",
       " 'Pattayya,42 years old, like others in his village, started making nylon-rope baskets,bags, swings and hammocks around 20 years ago. Until then, fishing was the mainoccupation in Kovvada (listed asJeerukovvada in the Census),a small coastal village of around 250 people adjacent to the Bay of Bengal in Ranastalam mandal of Srikakulam district.',\n",
       " 'Then,water pollution started ravaging the aquatic wealth of the region.Pharmaceutical industries came up in Pydibhimavaram village barely 10 kilometres away, in the 1990s. They have polluted groundwater as well as seawater, studies show. ',\n",
       " \"India’s Ministry of Environment classifies pharmaceutical manufacturing as a ‘red category’ activity due to its hazardous waste. After a globalised pharma sector began proliferating from the early 1990s, the industry has become “one of the fastest growing segments of the Indian economy,” notes areporttitledImpacts of Pharmaceutical Pollution on Communities and Environment in India. Among the industry’s hubs are Andhra Pradesh and Telangana. The report speaks of the “sustained negative impacts as a result of the pharmaceutical industry's unbridled expansion in Telangana and Andhra Pradesh.”\",\n",
       " 'Myalapilli Pattayya (right) and other fishermen sit under athatched-roof shed in the village centre, where they make baskets and hammocks',\n",
       " 'The Pydibhimavaram-Ranastalam region is now a major pharma centre in Andhra Pradesh, with industries on both sides of the Kolkata-Chennai national highway. Industry got a further boost here when this industrial belt became a special economic zone (SEZ)n in 2008-2009, and new companies began setting up their units here too. The SEZ Act of 2005 exempts numerous taxes and gives subsidies to industries along with relaxing labour laws. There are 19 SEZs in Andhra Pradesh, including four – Pydibhimavaram is one of these – focussed on manufacturing pharma drugs.',\n",
       " '“Their [discharge] pipelines are 15 kilometres into the sea, but the oil and effluents from the pharma industries are seen up to 100 kilometres from the coast every time we go fishing,” says Ganagalla Ramudu, who owns one of the few remainingteppa(a hand-rowed boat) in Kovadda village (inthe cover image). “Every house had at least oneteppa20 years ago. Only 10 are left now,” he adds. “We protested for three months continuously in 2010 in front of the MRO [mandal revenue officer] office in Ranastalam, but no one cared. So we stopped the struggle and went back to our work.”',\n",
       " '“The aquatic wealth of the region got ravaged because of the pollution caused by the pharmaceutical industries. Dead turtles and fish are often seen on the coast and these include the Olive Ridley turtle. The plant life on the ocean bed is poisoned, which in turn has poisoned the aquatic animals,” says Kunam Ramu, an environmental activist based inBudumuru village, who isassociated with the National Alliance of Peoples Movements.',\n",
       " 'Ganagalla Ramudu says the pharma industry pollutants can be seen upto 100 kilometres from the coast; they kill fish and turtles that land up on the shore',\n",
       " 'This has made fishing a near-futile activity in Kovvada and other villages here. “We no longer go fishing because we can’t catch any fish even after working hard for long,” says 40-year-old Myalapilli Appanna. “We go into the sea at 4 a.m., row for 20 kilometres, drop the net at 8-9 a.m. and wait for a couple of hours before coming back to the shore at 2 or 3 p.m. Four to five of us go on oneteppa.At the end of the day, we don’t even make 100 rupees per person.”',\n",
       " '“The fish we catch is not even sufficient for the curry in our own houses, forget about selling it and making money. We have to get fish from Visakhapatnam, Srikakulam or Ranastalam to cook in our houses,” adds Pattayya.',\n",
       " 'So Appanna and Pattayya, like many others in Kovvada, turned to making baskets, bags, swings and hammocks, which they sells across the country. They explored various options, and this one turned out to be profitable, they say, and the nylon ropes were easily available in Srikakulam. “I have travelled across 24 states, most of them more than once, over the last 20 years,” says Appanna. His wife Lakshmi adds, “I make the baskets while my husband takes them to other places to sell them.”',\n",
       " 'One kilo of the nylon-rope costs Rs. 350-400, including transportation costs by tempo or truck to the village. “We make 50 baskets from one kilo and sell each for Rs. 10 to 20, making a profit of Rs. 200 to 400 per kilo,” adds Appanna. The hammocks or swings are made of cloth and nylon and each one sells for Rs. 150 to 200.',\n",
       " '',\n",
       " 'Young and old alike now make the nylon-rope products. Seen here areMyalapilli Appanna and Chittibabu (left), SaradaRamudu (centre) and Pentayya (right)',\n",
       " 'The men in the village form groups and go to faraway places to sell the items. Ganagalla Ramudu, a friend of Appanna, who accompanied him on trip to Kerala in April, outlines their daily costs for food, travel and lodging while on the move, and says, “When I returned on May 15 [a month later], I had saved only 6,000 rupees.”',\n",
       " 'Pattayya’s travels have made him fluent in Kannada, Malayalam, Tamil and Hindi. “We pick up language wherever we go since that is very important to communicate with our customers,” he says. “Festivals and functions are now the occasions when the whole village meets. Men who have gone out selling the baskets and hammocks come back for important festivals, then they are again on the move.”',\n",
       " 'Like Lakshmi, many of the women in the village, besides making the baskets, hammocks and swings, work on MGNREGA projects which pay them intermittently. “I worked for four weeks but got only two weeks of payment at 100 rupees per day,” says Myalapalli Kannamba, 56, who also sells dried fish in nearby villages. The minimum mandated MGNREGA wage for the 2018-19 financial year is Rs. 205 in Andhra Pradesh. “We get the fish from Visakhapatnam, dry them for two days before selling them. Once upon a time, we got these fish for free. Now, we have to invest 10,000 rupees to get a profit of 2,000 rupees,” says Kannamba.',\n",
       " 'And after a while, even that small profit might not be possible. A proposed nuclear power plant on 2,073 acres across three villages, including Kovvada, and two hamlets could displace the villagers altogether, disrupting their modest trade in baskets and hammock, and decimating fishing further. SeePowerless in a power-surplus state',\n",
       " ' Rahul Maganti is an independent journalist and 2017 PARI Fellow based in Vijayawada, Andhra Pradesh.  ']"
      ]
     },
     "execution_count": 89,
     "metadata": {},
     "output_type": "execute_result"
    }
   ],
   "source": [
    "txt"
   ]
  },
  {
   "cell_type": "code",
   "execution_count": null,
   "metadata": {},
   "outputs": [],
   "source": []
  }
 ],
 "metadata": {
  "kernelspec": {
   "display_name": "Python 3",
   "language": "python",
   "name": "python3"
  },
  "language_info": {
   "codemirror_mode": {
    "name": "ipython",
    "version": 3
   },
   "file_extension": ".py",
   "mimetype": "text/x-python",
   "name": "python",
   "nbconvert_exporter": "python",
   "pygments_lexer": "ipython3",
   "version": "3.6.4"
  }
 },
 "nbformat": 4,
 "nbformat_minor": 2
}
